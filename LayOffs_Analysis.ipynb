{
 "cells": [
  {
   "cell_type": "code",
   "execution_count": 47,
   "metadata": {
    "collapsed": true,
    "pycharm": {
     "name": "#%%\n"
    }
   },
   "outputs": [],
   "source": [
    "import pandas as pd\n",
    "import numpy as np\n",
    "import matplotlib.pyplot as plt\n",
    "import seaborn as sns\n",
    "\n",
    "layoffs_df= pd.read_excel(\"Data/layoffs.xlsx\")"
   ]
  },
  {
   "cell_type": "code",
   "execution_count": 48,
   "metadata": {
    "pycharm": {
     "name": "#%%\n"
    }
   },
   "outputs": [
    {
     "data": {
      "text/plain": "      company       location        industry  total_laid_off  \\\n0         N26         Berlin         Finance            71.0   \n1   Providoor      Melbourne            Food             NaN   \n2     Dropbox    SF Bay Area           Other           500.0   \n3       Vroom  New York City  Transportation           120.0   \n4  Greenhouse  New York City      Recruiting           100.0   \n\n   percentage_laid_off        date           stage        country  \\\n0                 0.04  2023-04-28        Series E  United States   \n1                 1.00  2023-04-28         Unknown      Australia   \n2                 0.16  2023-04-27        Post-IPO  United States   \n3                 0.11  2023-04-27        Post-IPO  United States   \n4                 0.12  2023-04-27  Private Equity  United States   \n\n   funds_raised  \n0        1700.0  \n1           NaN  \n2        1700.0  \n3        1300.0  \n4         110.0  ",
      "text/html": "<div>\n<style scoped>\n    .dataframe tbody tr th:only-of-type {\n        vertical-align: middle;\n    }\n\n    .dataframe tbody tr th {\n        vertical-align: top;\n    }\n\n    .dataframe thead th {\n        text-align: right;\n    }\n</style>\n<table border=\"1\" class=\"dataframe\">\n  <thead>\n    <tr style=\"text-align: right;\">\n      <th></th>\n      <th>company</th>\n      <th>location</th>\n      <th>industry</th>\n      <th>total_laid_off</th>\n      <th>percentage_laid_off</th>\n      <th>date</th>\n      <th>stage</th>\n      <th>country</th>\n      <th>funds_raised</th>\n    </tr>\n  </thead>\n  <tbody>\n    <tr>\n      <th>0</th>\n      <td>N26</td>\n      <td>Berlin</td>\n      <td>Finance</td>\n      <td>71.0</td>\n      <td>0.04</td>\n      <td>2023-04-28</td>\n      <td>Series E</td>\n      <td>United States</td>\n      <td>1700.0</td>\n    </tr>\n    <tr>\n      <th>1</th>\n      <td>Providoor</td>\n      <td>Melbourne</td>\n      <td>Food</td>\n      <td>NaN</td>\n      <td>1.00</td>\n      <td>2023-04-28</td>\n      <td>Unknown</td>\n      <td>Australia</td>\n      <td>NaN</td>\n    </tr>\n    <tr>\n      <th>2</th>\n      <td>Dropbox</td>\n      <td>SF Bay Area</td>\n      <td>Other</td>\n      <td>500.0</td>\n      <td>0.16</td>\n      <td>2023-04-27</td>\n      <td>Post-IPO</td>\n      <td>United States</td>\n      <td>1700.0</td>\n    </tr>\n    <tr>\n      <th>3</th>\n      <td>Vroom</td>\n      <td>New York City</td>\n      <td>Transportation</td>\n      <td>120.0</td>\n      <td>0.11</td>\n      <td>2023-04-27</td>\n      <td>Post-IPO</td>\n      <td>United States</td>\n      <td>1300.0</td>\n    </tr>\n    <tr>\n      <th>4</th>\n      <td>Greenhouse</td>\n      <td>New York City</td>\n      <td>Recruiting</td>\n      <td>100.0</td>\n      <td>0.12</td>\n      <td>2023-04-27</td>\n      <td>Private Equity</td>\n      <td>United States</td>\n      <td>110.0</td>\n    </tr>\n  </tbody>\n</table>\n</div>"
     },
     "execution_count": 48,
     "metadata": {},
     "output_type": "execute_result"
    }
   ],
   "source": [
    "layoffs_df.head()"
   ]
  },
  {
   "cell_type": "code",
   "execution_count": 49,
   "metadata": {
    "pycharm": {
     "name": "#%%\n"
    }
   },
   "outputs": [
    {
     "data": {
      "text/plain": "Index(['company', 'location', 'industry', 'total_laid_off',\n       'percentage_laid_off', 'date', 'stage', 'country', 'funds_raised'],\n      dtype='object')"
     },
     "execution_count": 49,
     "metadata": {},
     "output_type": "execute_result"
    }
   ],
   "source": [
    "layoffs_df.columns"
   ]
  },
  {
   "cell_type": "code",
   "execution_count": 50,
   "metadata": {
    "pycharm": {
     "name": "#%%\n"
    }
   },
   "outputs": [
    {
     "data": {
      "text/plain": "company                 object\nlocation                object\nindustry                object\ntotal_laid_off         float64\npercentage_laid_off    float64\ndate                    object\nstage                   object\ncountry                 object\nfunds_raised           float64\ndtype: object"
     },
     "execution_count": 50,
     "metadata": {},
     "output_type": "execute_result"
    }
   ],
   "source": [
    "layoffs_df.dtypes"
   ]
  },
  {
   "cell_type": "code",
   "execution_count": 51,
   "metadata": {
    "pycharm": {
     "name": "#%%\n"
    }
   },
   "outputs": [
    {
     "data": {
      "text/plain": "       total_laid_off  percentage_laid_off   funds_raised\ncount     1746.000000          1694.000000    2297.000000\nmean       256.022337             0.260577     814.143794\nstd        841.557354             0.258415    5448.104463\nmin          3.000000             0.000000       0.000000\n25%         38.000000             0.100000      50.000000\n50%         80.000000             0.170000     156.000000\n75%        180.000000             0.300000     442.000000\nmax      12000.000000             1.000000  121900.000000",
      "text/html": "<div>\n<style scoped>\n    .dataframe tbody tr th:only-of-type {\n        vertical-align: middle;\n    }\n\n    .dataframe tbody tr th {\n        vertical-align: top;\n    }\n\n    .dataframe thead th {\n        text-align: right;\n    }\n</style>\n<table border=\"1\" class=\"dataframe\">\n  <thead>\n    <tr style=\"text-align: right;\">\n      <th></th>\n      <th>total_laid_off</th>\n      <th>percentage_laid_off</th>\n      <th>funds_raised</th>\n    </tr>\n  </thead>\n  <tbody>\n    <tr>\n      <th>count</th>\n      <td>1746.000000</td>\n      <td>1694.000000</td>\n      <td>2297.000000</td>\n    </tr>\n    <tr>\n      <th>mean</th>\n      <td>256.022337</td>\n      <td>0.260577</td>\n      <td>814.143794</td>\n    </tr>\n    <tr>\n      <th>std</th>\n      <td>841.557354</td>\n      <td>0.258415</td>\n      <td>5448.104463</td>\n    </tr>\n    <tr>\n      <th>min</th>\n      <td>3.000000</td>\n      <td>0.000000</td>\n      <td>0.000000</td>\n    </tr>\n    <tr>\n      <th>25%</th>\n      <td>38.000000</td>\n      <td>0.100000</td>\n      <td>50.000000</td>\n    </tr>\n    <tr>\n      <th>50%</th>\n      <td>80.000000</td>\n      <td>0.170000</td>\n      <td>156.000000</td>\n    </tr>\n    <tr>\n      <th>75%</th>\n      <td>180.000000</td>\n      <td>0.300000</td>\n      <td>442.000000</td>\n    </tr>\n    <tr>\n      <th>max</th>\n      <td>12000.000000</td>\n      <td>1.000000</td>\n      <td>121900.000000</td>\n    </tr>\n  </tbody>\n</table>\n</div>"
     },
     "execution_count": 51,
     "metadata": {},
     "output_type": "execute_result"
    }
   ],
   "source": [
    "layoffs_df.describe()"
   ]
  },
  {
   "cell_type": "code",
   "execution_count": 53,
   "outputs": [
    {
     "data": {
      "text/plain": "<bound method DataFrame.info of             company        location        industry  total_laid_off  \\\n0               N26          Berlin         Finance            71.0   \n1         Providoor       Melbourne            Food             NaN   \n2           Dropbox     SF Bay Area           Other           500.0   \n3             Vroom   New York City  Transportation           120.0   \n4        Greenhouse   New York City      Recruiting           100.0   \n...             ...             ...             ...             ...   \n2540    Panda Squad     SF Bay Area        Consumer             6.0   \n2541  Tamara Mellon     Los Angeles          Retail            20.0   \n2542       EasyPost  Salt Lake City       Logistics            75.0   \n2543      Blackbaud      Charleston           Other           500.0   \n2544           Open       Bengaluru         Finance            47.0   \n\n      percentage_laid_off        date           stage        country  \\\n0                    0.04  2023-04-28        Series E  United States   \n1                    1.00  2023-04-28         Unknown      Australia   \n2                    0.16  2023-04-27        Post-IPO  United States   \n3                    0.11  2023-04-27        Post-IPO  United States   \n4                    0.12  2023-04-27  Private Equity  United States   \n...                   ...         ...             ...            ...   \n2540                 0.75  2020-03-13            Seed  United States   \n2541                 0.40  2020-03-12        Series C  United States   \n2542                  NaN  2020-03-11        Series A  United States   \n2543                 0.14         NaN        Post-IPO  United States   \n2544                  NaN         NaN        Series D          India   \n\n      funds_raised  \n0           1700.0  \n1              NaN  \n2           1700.0  \n3           1300.0  \n4            110.0  \n...            ...  \n2540           1.0  \n2541          90.0  \n2542          12.0  \n2543           NaN  \n2544         190.0  \n\n[2545 rows x 9 columns]>"
     },
     "execution_count": 53,
     "metadata": {},
     "output_type": "execute_result"
    }
   ],
   "source": [
    "layoffs_df.info"
   ],
   "metadata": {
    "collapsed": false,
    "pycharm": {
     "name": "#%%\n"
    }
   }
  },
  {
   "cell_type": "markdown",
   "source": [],
   "metadata": {
    "collapsed": false,
    "pycharm": {
     "name": "#%% md\n"
    }
   }
  },
  {
   "cell_type": "markdown",
   "metadata": {
    "pycharm": {
     "name": "#%% md\n"
    }
   },
   "source": [
    "# Handling Missing Values"
   ]
  },
  {
   "cell_type": "code",
   "execution_count": null,
   "metadata": {
    "pycharm": {
     "name": "#%%\n"
    }
   },
   "outputs": [],
   "source": [
    "average_funds_raised = layoffs_df['funds_raised'].mean()\n",
    "layoffs_df['funds_raised'].fillna(value=average_funds_raised, inplace=True)"
   ]
  },
  {
   "cell_type": "code",
   "execution_count": null,
   "metadata": {
    "pycharm": {
     "name": "#%%\n"
    }
   },
   "outputs": [],
   "source": [
    "average_laid_off = layoffs_df['total_laid_off'].mean()\n",
    "layoffs_df['total_laid_off'].fillna(value=average_laid_off, inplace=True)"
   ]
  },
  {
   "cell_type": "markdown",
   "metadata": {
    "pycharm": {
     "name": "#%% md\n"
    }
   },
   "source": []
  },
  {
   "cell_type": "markdown",
   "metadata": {
    "pycharm": {
     "name": "#%% md\n"
    }
   },
   "source": [
    "# Check Count of Categorical Values in Data"
   ]
  },
  {
   "cell_type": "code",
   "execution_count": null,
   "metadata": {
    "pycharm": {
     "name": "#%%\n"
    }
   },
   "outputs": [],
   "source": [
    "layoffs_df['stage'].value_counts()"
   ]
  },
  {
   "cell_type": "code",
   "execution_count": null,
   "metadata": {
    "pycharm": {
     "name": "#%%\n"
    }
   },
   "outputs": [],
   "source": [
    "layoffs_df['industry'].value_counts()"
   ]
  },
  {
   "cell_type": "code",
   "execution_count": null,
   "metadata": {
    "pycharm": {
     "name": "#%%\n"
    }
   },
   "outputs": [],
   "source": [
    "layoffs_df['country'].value_counts()"
   ]
  },
  {
   "cell_type": "markdown",
   "metadata": {
    "pycharm": {
     "name": "#%% md\n"
    }
   },
   "source": [
    "# Identify Correlations"
   ]
  },
  {
   "cell_type": "code",
   "execution_count": null,
   "metadata": {
    "pycharm": {
     "name": "#%%\n"
    }
   },
   "outputs": [],
   "source": [
    "from sklearn.preprocessing import LabelEncoder\n",
    "\n",
    "le = LabelEncoder()\n",
    "# convert the categorical columns to numerical\n",
    "layoffs_df['industry_encoded'] = le.fit_transform(layoffs_df['industry'])\n",
    "layoffs_df['stage_encoded'] = le.fit_transform(layoffs_df['stage'])"
   ]
  },
  {
   "cell_type": "code",
   "execution_count": null,
   "metadata": {
    "pycharm": {
     "name": "#%%\n"
    }
   },
   "outputs": [],
   "source": [
    "print(\"Correlation between industry and total_laid_off:\", layoffs_df['industry_encoded'].corr(layoffs_df['total_laid_off']))\n",
    "print(\"Correlation between stage and total_laid_off:\", layoffs_df['stage_encoded'].corr(layoffs_df['total_laid_off']))"
   ]
  },
  {
   "cell_type": "code",
   "execution_count": null,
   "metadata": {
    "pycharm": {
     "name": "#%%\n"
    }
   },
   "outputs": [],
   "source": [
    "layoffs_df.corr()"
   ]
  },
  {
   "cell_type": "code",
   "execution_count": null,
   "metadata": {
    "pycharm": {
     "name": "#%%\n"
    }
   },
   "outputs": [],
   "source": [
    "# A heatmap to better represent and understand the correlations\n",
    "corr_heatmap = layoffs_df.corr()\n",
    "f, ax = plt.subplots(figsize=(15, 10))\n",
    "cmap = sns.diverging_palette(220, 10, as_cmap=True)\n",
    "sns.heatmap(corr_heatmap, cmap=cmap, vmax=.3, center=0, annot=True,\n",
    "            square=True, linewidths=.5, cbar_kws={\"shrink\": .5})\n",
    "\n",
    "plt.show()"
   ]
  },
  {
   "cell_type": "markdown",
   "metadata": {
    "pycharm": {
     "name": "#%% md\n"
    }
   },
   "source": []
  },
  {
   "cell_type": "code",
   "execution_count": null,
   "metadata": {
    "pycharm": {
     "name": "#%%\n"
    }
   },
   "outputs": [],
   "source": [
    "correlation = layoffs_df['funds_raised'].corr(layoffs_df['total_laid_off'])\n",
    "print('Correlation: %.3f' % correlation)\n",
    "plt.figure(figsize=(15, 10))\n",
    "sns.scatterplot(data=layoffs_df, x=\"funds_raised\", y=\"total_laid_off\")\n",
    "plt.show()"
   ]
  },
  {
   "cell_type": "markdown",
   "metadata": {
    "pycharm": {
     "name": "#%% md\n"
    }
   },
   "source": []
  },
  {
   "cell_type": "markdown",
   "metadata": {
    "pycharm": {
     "name": "#%% md\n"
    }
   },
   "source": [
    "# Average Layoffs per Industry"
   ]
  },
  {
   "cell_type": "code",
   "execution_count": null,
   "metadata": {
    "pycharm": {
     "name": "#%%\n"
    }
   },
   "outputs": [],
   "source": [
    "import matplotlib.cm as cm\n",
    "# Calculating mean number of layoffs per industry\n",
    "average_layoffs_per_industry = layoffs_df.groupby('industry')['total_laid_off'].mean().sort_values(ascending=False)\n",
    "print(\"Average layoffs per industry:\\n\", average_layoffs_per_industry)\n",
    "\n",
    "colors = cm.viridis(np.linspace(0, 1, len(average_layoffs_per_industry)))\n",
    "plt.figure(figsize=(15,10))\n",
    "plt.bar(average_layoffs_per_industry.index, average_layoffs_per_industry.values, color=colors)\n",
    "plt.title('Average layoffs per industry')\n",
    "plt.xlabel('Industry')\n",
    "plt.ylabel('Average layoffs')\n",
    "plt.xticks(rotation=90)\n",
    "plt.show()"
   ]
  },
  {
   "cell_type": "markdown",
   "metadata": {
    "pycharm": {
     "name": "#%% md\n"
    }
   },
   "source": []
  },
  {
   "cell_type": "markdown",
   "metadata": {
    "pycharm": {
     "name": "#%% md\n"
    }
   },
   "source": []
  },
  {
   "cell_type": "markdown",
   "metadata": {
    "pycharm": {
     "name": "#%% md\n"
    }
   },
   "source": [
    "# Total layoffs per industry"
   ]
  },
  {
   "cell_type": "code",
   "execution_count": null,
   "metadata": {
    "pycharm": {
     "name": "#%%\n"
    }
   },
   "outputs": [],
   "source": [
    "industry_counts = layoffs_df['industry'].value_counts().sort_values(ascending=False)\n",
    "\n",
    "plt.figure(figsize=(15,10))\n",
    "chart = sns.barplot(\n",
    "    x=industry_counts.index,\n",
    "    y=industry_counts.values,\n",
    "    palette='Set1'\n",
    ")\n",
    "\n",
    "chart.set_xticklabels(chart.get_xticklabels(), rotation=45, horizontalalignment='right')\n",
    "plt.title('Total layoffs per industry')\n",
    "plt.xlabel('Industry')\n",
    "plt.ylabel('Average layoffs')\n",
    "plt.show()"
   ]
  },
  {
   "cell_type": "markdown",
   "metadata": {
    "pycharm": {
     "name": "#%% md\n"
    }
   },
   "source": []
  },
  {
   "cell_type": "markdown",
   "metadata": {
    "pycharm": {
     "name": "#%% md\n"
    }
   },
   "source": [
    "# Lay-Offs Chronology"
   ]
  },
  {
   "cell_type": "code",
   "execution_count": null,
   "metadata": {
    "pycharm": {
     "name": "#%%\n"
    }
   },
   "outputs": [],
   "source": [
    "layoffs_df['date'] = pd.to_datetime(layoffs_df['date'])\n",
    "yearly_layoffs = layoffs_df.resample('Y', on='date')['total_laid_off'].sum()\n",
    "\n",
    "plt.figure(figsize=(15,10))\n",
    "sns.lineplot(x=yearly_layoffs.index.year, y=yearly_layoffs.values)\n",
    "plt.xlabel('Year')\n",
    "plt.ylabel('Number of Layoffs')\n",
    "plt.title('Chronology of Layoffs Over Years')\n",
    "plt.show()"
   ]
  },
  {
   "cell_type": "code",
   "execution_count": null,
   "metadata": {
    "pycharm": {
     "name": "#%%\n"
    }
   },
   "outputs": [],
   "source": [
    "layoffs_df['date'] = pd.to_datetime(layoffs_df['date'])\n",
    "# Group by year and compute total layoffs and funds raised per year\n",
    "yearly_data = layoffs_df.resample('Y', on='date').agg({'total_laid_off': 'sum', 'funds_raised': 'sum'})\n",
    "# Create a wider figure and a set of subplots\n",
    "fig, ax1 = plt.subplots(figsize=(15, 10))\n",
    "\n",
    "# Create the first line plot for total layoffs\n",
    "color = 'tab:blue'\n",
    "ax1.set_xlabel('Year')\n",
    "ax1.set_ylabel('Total Number of Layoffs', color=color)\n",
    "ax1.plot(yearly_data.index.year, yearly_data['total_laid_off'], color=color)\n",
    "ax1.tick_params(axis='y', labelcolor=color)\n",
    "# Create a second y-axis for the total funds raised\n",
    "ax2 = ax1.twinx()\n",
    "\n",
    "color = 'tab:red'\n",
    "ax2.set_ylabel('Total Funds Raised', color=color)\n",
    "ax2.plot(yearly_data.index.year, yearly_data['funds_raised'], color=color)\n",
    "ax2.tick_params(axis='y', labelcolor=color)\n",
    "plt.title('Total Layoffs and Funds Raised Over Time')\n",
    "plt.show()"
   ]
  },
  {
   "cell_type": "markdown",
   "metadata": {
    "pycharm": {
     "name": "#%% md\n"
    }
   },
   "source": []
  },
  {
   "cell_type": "markdown",
   "metadata": {
    "pycharm": {
     "name": "#%% md\n"
    }
   },
   "source": [
    "# LayOffs Distribution Over Stages"
   ]
  },
  {
   "cell_type": "code",
   "execution_count": null,
   "metadata": {
    "pycharm": {
     "name": "#%%\n"
    }
   },
   "outputs": [],
   "source": [
    "mean_layoffs_per_stage = layoffs_df.groupby('stage')['total_laid_off'].mean()\n",
    "mean_layoffs_per_stage = mean_layoffs_per_stage.sort_values(ascending=False)\n",
    "print(mean_layoffs_per_stage)\n",
    "\n",
    "plt.figure(figsize=(15, 10))\n",
    "sns.barplot(x=mean_layoffs_per_stage.index, y=mean_layoffs_per_stage.values)\n",
    "plt.xlabel('Stage')\n",
    "plt.ylabel('Average Number of Layoffs')\n",
    "plt.title('Average Number of Layoffs Across Different Stages of Companies')\n",
    "plt.show()"
   ]
  },
  {
   "cell_type": "markdown",
   "metadata": {
    "pycharm": {
     "name": "#%% md\n"
    }
   },
   "source": []
  },
  {
   "cell_type": "markdown",
   "metadata": {
    "pycharm": {
     "name": "#%% md\n"
    }
   },
   "source": [
    "# Top 10 Countries with Highest Lay-Offs"
   ]
  },
  {
   "cell_type": "code",
   "execution_count": null,
   "metadata": {
    "pycharm": {
     "name": "#%%\n"
    }
   },
   "outputs": [],
   "source": [
    "# Group by country and sum total_laid_off\n",
    "grouped_layoffs = layoffs_df.groupby('country')['total_laid_off'].sum().sort_values(ascending=False).head(10)\n",
    "\n",
    "plt.figure(figsize=(15, 10))\n",
    "sns.barplot(x=grouped_layoffs.index, y=grouped_layoffs.values, palette='viridis')\n",
    "plt.xticks(rotation=90) # Rotate the country labels for better visibility if they are long\n",
    "plt.xlabel('Country')\n",
    "plt.ylabel('Total Number of Layoffs')\n",
    "plt.title('Total Layoffs by Country')\n",
    "plt.show()"
   ]
  },
  {
   "cell_type": "markdown",
   "metadata": {
    "pycharm": {
     "name": "#%% md\n"
    }
   },
   "source": []
  },
  {
   "cell_type": "markdown",
   "metadata": {
    "pycharm": {
     "name": "#%% md\n"
    }
   },
   "source": [
    "# Top 15 Companies wise Lay-Offs"
   ]
  },
  {
   "cell_type": "code",
   "execution_count": null,
   "metadata": {
    "pycharm": {
     "name": "#%%\n"
    }
   },
   "outputs": [],
   "source": [
    "# Group by company and sum total_laid_off\n",
    "grouped_layoffs = layoffs_df.groupby('company')['total_laid_off'].sum().sort_values(ascending=False).head(15)\n",
    "\n",
    "plt.figure(figsize=(15, 10))\n",
    "sns.barplot(x=grouped_layoffs.index, y=grouped_layoffs.values, palette='viridis')\n",
    "plt.xticks(rotation=90)\n",
    "plt.xlabel('Country')\n",
    "plt.ylabel('Total Number of Layoffs')\n",
    "plt.title('Total Layoffs by Country')\n",
    "plt.show()"
   ]
  },
  {
   "cell_type": "markdown",
   "source": [],
   "metadata": {
    "collapsed": false,
    "pycharm": {
     "name": "#%% md\n"
    }
   }
  },
  {
   "cell_type": "markdown",
   "source": [
    "# Box Plotting the lay-offs across different stages"
   ],
   "metadata": {
    "collapsed": false,
    "pycharm": {
     "name": "#%% md\n"
    }
   }
  },
  {
   "cell_type": "code",
   "execution_count": null,
   "metadata": {
    "pycharm": {
     "name": "#%%\n"
    }
   },
   "outputs": [],
   "source": [
    "plt.figure(figsize=(15, 8))\n",
    "sns.boxplot(x='stage', y='total_laid_off', data=layoffs_df)\n",
    "plt.title('Distribution of Total Layoffs Across Different Stages')\n",
    "plt.xlabel('Stage')\n",
    "plt.ylabel('Total Laid Off')\n",
    "plt.show()"
   ]
  },
  {
   "cell_type": "markdown",
   "source": [],
   "metadata": {
    "collapsed": false,
    "pycharm": {
     "name": "#%% md\n"
    }
   }
  },
  {
   "cell_type": "markdown",
   "source": [
    "# LayOffs Over time: Month/Year Format"
   ],
   "metadata": {
    "collapsed": false,
    "pycharm": {
     "name": "#%% md\n"
    }
   }
  },
  {
   "cell_type": "code",
   "execution_count": null,
   "outputs": [],
   "source": [
    "layoffs_df['date'] = pd.to_datetime(layoffs_df['date'])\n",
    "grouped = layoffs_df.groupby('date')['total_laid_off'].sum()\n",
    "\n",
    "fig, ax = plt.subplots(figsize=(12,6))\n",
    "grouped.plot(kind='area', ax=ax)\n",
    "plt.title('Total Layoffs Over Time')\n",
    "plt.xlabel('Date')\n",
    "plt.ylabel('Total Layoffs')\n",
    "plt.show()"
   ],
   "metadata": {
    "collapsed": false,
    "pycharm": {
     "name": "#%%\n"
    }
   }
  },
  {
   "cell_type": "markdown",
   "source": [
    "# Lay-Offs Map"
   ],
   "metadata": {
    "collapsed": false,
    "pycharm": {
     "name": "#%% md\n"
    }
   }
  },
  {
   "cell_type": "code",
   "execution_count": null,
   "outputs": [],
   "source": [
    "import plotly.express as px\n",
    "\n",
    "# aggregate data by country\n",
    "country_layoffs = layoffs_df.groupby('country')['total_laid_off'].sum().reset_index()\n",
    "fig = px.choropleth(country_layoffs,\n",
    "                    locations=\"country\",\n",
    "                    color=\"total_laid_off\",\n",
    "                    locationmode = 'country names',\n",
    "                    color_continuous_scale=px.colors.sequential.Plasma,\n",
    "                    title='Total Layoffs by Country')\n",
    "fig.show()"
   ],
   "metadata": {
    "collapsed": false,
    "pycharm": {
     "name": "#%%\n"
    }
   }
  },
  {
   "cell_type": "code",
   "execution_count": null,
   "outputs": [],
   "source": [],
   "metadata": {
    "collapsed": false,
    "pycharm": {
     "name": "#%%\n"
    }
   }
  }
 ],
 "metadata": {
  "kernelspec": {
   "display_name": "Python 3 (ipykernel)",
   "language": "python",
   "name": "python3"
  },
  "language_info": {
   "codemirror_mode": {
    "name": "ipython",
    "version": 3
   },
   "file_extension": ".py",
   "mimetype": "text/x-python",
   "name": "python",
   "nbconvert_exporter": "python",
   "pygments_lexer": "ipython3",
   "version": "3.10.11"
  }
 },
 "nbformat": 4,
 "nbformat_minor": 1
}